{
 "cells": [
  {
   "cell_type": "code",
   "execution_count": 1,
   "metadata": {},
   "outputs": [],
   "source": [
    "# Import des bibliothèques nécessaires\n",
    "import pandas as pd\n",
    "from sklearn.decomposition import PCA\n",
    "import matplotlib.pyplot as plt\n"
   ]
  },
  {
   "cell_type": "code",
   "execution_count": null,
   "metadata": {},
   "outputs": [],
   "source": [
    "# 2. Charger le jeu de données sur le vin de qualité"
   ]
  },
  {
   "cell_type": "code",
   "execution_count": 7,
   "metadata": {},
   "outputs": [
    {
     "name": "stdout",
     "output_type": "stream",
     "text": [
      "Requirement already satisfied: ucimlrepo in c:\\users\\dilane\\anaconda3\\lib\\site-packages (0.0.3)\n",
      "Note: you may need to restart the kernel to use updated packages.\n"
     ]
    }
   ],
   "source": [
    "pip install ucimlrepo"
   ]
  },
  {
   "cell_type": "code",
   "execution_count": 31,
   "metadata": {},
   "outputs": [
    {
     "data": {
      "text/plain": [
       "{'data': {'ids': None,\n",
       "  'features':       fixed_acidity  volatile_acidity  citric_acid  residual_sugar  chlorides  \\\n",
       "  0               7.4              0.70         0.00             1.9      0.076   \n",
       "  1               7.8              0.88         0.00             2.6      0.098   \n",
       "  2               7.8              0.76         0.04             2.3      0.092   \n",
       "  3              11.2              0.28         0.56             1.9      0.075   \n",
       "  4               7.4              0.70         0.00             1.9      0.076   \n",
       "  ...             ...               ...          ...             ...        ...   \n",
       "  6492            6.2              0.21         0.29             1.6      0.039   \n",
       "  6493            6.6              0.32         0.36             8.0      0.047   \n",
       "  6494            6.5              0.24         0.19             1.2      0.041   \n",
       "  6495            5.5              0.29         0.30             1.1      0.022   \n",
       "  6496            6.0              0.21         0.38             0.8      0.020   \n",
       "  \n",
       "        free_sulfur_dioxide  total_sulfur_dioxide  density    pH  sulphates  \\\n",
       "  0                    11.0                  34.0  0.99780  3.51       0.56   \n",
       "  1                    25.0                  67.0  0.99680  3.20       0.68   \n",
       "  2                    15.0                  54.0  0.99700  3.26       0.65   \n",
       "  3                    17.0                  60.0  0.99800  3.16       0.58   \n",
       "  4                    11.0                  34.0  0.99780  3.51       0.56   \n",
       "  ...                   ...                   ...      ...   ...        ...   \n",
       "  6492                 24.0                  92.0  0.99114  3.27       0.50   \n",
       "  6493                 57.0                 168.0  0.99490  3.15       0.46   \n",
       "  6494                 30.0                 111.0  0.99254  2.99       0.46   \n",
       "  6495                 20.0                 110.0  0.98869  3.34       0.38   \n",
       "  6496                 22.0                  98.0  0.98941  3.26       0.32   \n",
       "  \n",
       "        alcohol  \n",
       "  0         9.4  \n",
       "  1         9.8  \n",
       "  2         9.8  \n",
       "  3         9.8  \n",
       "  4         9.4  \n",
       "  ...       ...  \n",
       "  6492     11.2  \n",
       "  6493      9.6  \n",
       "  6494      9.4  \n",
       "  6495     12.8  \n",
       "  6496     11.8  \n",
       "  \n",
       "  [6497 rows x 11 columns],\n",
       "  'targets':       quality\n",
       "  0           5\n",
       "  1           5\n",
       "  2           5\n",
       "  3           6\n",
       "  4           5\n",
       "  ...       ...\n",
       "  6492        6\n",
       "  6493        5\n",
       "  6494        6\n",
       "  6495        7\n",
       "  6496        6\n",
       "  \n",
       "  [6497 rows x 1 columns],\n",
       "  'original':       fixed_acidity  volatile_acidity  citric_acid  residual_sugar  chlorides  \\\n",
       "  0               7.4              0.70         0.00             1.9      0.076   \n",
       "  1               7.8              0.88         0.00             2.6      0.098   \n",
       "  2               7.8              0.76         0.04             2.3      0.092   \n",
       "  3              11.2              0.28         0.56             1.9      0.075   \n",
       "  4               7.4              0.70         0.00             1.9      0.076   \n",
       "  ...             ...               ...          ...             ...        ...   \n",
       "  6492            6.2              0.21         0.29             1.6      0.039   \n",
       "  6493            6.6              0.32         0.36             8.0      0.047   \n",
       "  6494            6.5              0.24         0.19             1.2      0.041   \n",
       "  6495            5.5              0.29         0.30             1.1      0.022   \n",
       "  6496            6.0              0.21         0.38             0.8      0.020   \n",
       "  \n",
       "        free_sulfur_dioxide  total_sulfur_dioxide  density    pH  sulphates  \\\n",
       "  0                    11.0                  34.0  0.99780  3.51       0.56   \n",
       "  1                    25.0                  67.0  0.99680  3.20       0.68   \n",
       "  2                    15.0                  54.0  0.99700  3.26       0.65   \n",
       "  3                    17.0                  60.0  0.99800  3.16       0.58   \n",
       "  4                    11.0                  34.0  0.99780  3.51       0.56   \n",
       "  ...                   ...                   ...      ...   ...        ...   \n",
       "  6492                 24.0                  92.0  0.99114  3.27       0.50   \n",
       "  6493                 57.0                 168.0  0.99490  3.15       0.46   \n",
       "  6494                 30.0                 111.0  0.99254  2.99       0.46   \n",
       "  6495                 20.0                 110.0  0.98869  3.34       0.38   \n",
       "  6496                 22.0                  98.0  0.98941  3.26       0.32   \n",
       "  \n",
       "        alcohol  quality  color  \n",
       "  0         9.4        5    red  \n",
       "  1         9.8        5    red  \n",
       "  2         9.8        5    red  \n",
       "  3         9.8        6    red  \n",
       "  4         9.4        5    red  \n",
       "  ...       ...      ...    ...  \n",
       "  6492     11.2        6  white  \n",
       "  6493      9.6        5  white  \n",
       "  6494      9.4        6  white  \n",
       "  6495     12.8        7  white  \n",
       "  6496     11.8        6  white  \n",
       "  \n",
       "  [6497 rows x 13 columns],\n",
       "  'headers': Index(['fixed_acidity', 'volatile_acidity', 'citric_acid', 'residual_sugar',\n",
       "         'chlorides', 'free_sulfur_dioxide', 'total_sulfur_dioxide', 'density',\n",
       "         'pH', 'sulphates', 'alcohol', 'quality', 'color'],\n",
       "        dtype='object')},\n",
       " 'metadata': {'uci_id': 186,\n",
       "  'name': 'Wine Quality',\n",
       "  'repository_url': 'https://archive.ics.uci.edu/dataset/186/wine+quality',\n",
       "  'data_url': 'https://archive.ics.uci.edu/static/public/186/data.csv',\n",
       "  'abstract': 'Two datasets are included, related to red and white vinho verde wine samples, from the north of Portugal. The goal is to model wine quality based on physicochemical tests (see [Cortez et al., 2009], http://www3.dsi.uminho.pt/pcortez/wine/).',\n",
       "  'area': 'Business',\n",
       "  'tasks': ['Classification', 'Regression'],\n",
       "  'characteristics': ['Multivariate'],\n",
       "  'num_instances': 4898,\n",
       "  'num_features': 11,\n",
       "  'feature_types': ['Real'],\n",
       "  'demographics': [],\n",
       "  'target_col': ['quality'],\n",
       "  'index_col': None,\n",
       "  'has_missing_values': 'no',\n",
       "  'missing_values_symbol': None,\n",
       "  'year_of_dataset_creation': 2009,\n",
       "  'last_updated': 'Wed Nov 15 2023',\n",
       "  'dataset_doi': '10.24432/C56S3T',\n",
       "  'creators': ['Paulo Cortez',\n",
       "   'A. Cerdeira',\n",
       "   'F. Almeida',\n",
       "   'T. Matos',\n",
       "   'J. Reis'],\n",
       "  'intro_paper': {'title': 'Modeling wine preferences by data mining from physicochemical properties',\n",
       "   'authors': 'P. Cortez, A. Cerdeira, Fernando Almeida, Telmo Matos, J. Reis',\n",
       "   'published_in': 'Decision Support Systems',\n",
       "   'year': 2009,\n",
       "   'url': 'https://www.semanticscholar.org/paper/Modeling-wine-preferences-by-data-mining-from-Cortez-Cerdeira/bf15a0ccc14ac1deb5cea570c870389c16be019c',\n",
       "   'doi': None},\n",
       "  'additional_info': {'summary': 'The two datasets are related to red and white variants of the Portuguese \"Vinho Verde\" wine. For more details, consult: http://www.vinhoverde.pt/en/ or the reference [Cortez et al., 2009].  Due to privacy and logistic issues, only physicochemical (inputs) and sensory (the output) variables are available (e.g. there is no data about grape types, wine brand, wine selling price, etc.).\\n\\nThese datasets can be viewed as classification or regression tasks.  The classes are ordered and not balanced (e.g. there are many more normal wines than excellent or poor ones). Outlier detection algorithms could be used to detect the few excellent or poor wines. Also, we are not sure if all input variables are relevant. So it could be interesting to test feature selection methods.\\n',\n",
       "   'purpose': None,\n",
       "   'funded_by': None,\n",
       "   'instances_represent': None,\n",
       "   'recommended_data_splits': None,\n",
       "   'sensitive_data': None,\n",
       "   'preprocessing_description': None,\n",
       "   'variable_info': 'For more information, read [Cortez et al., 2009].\\r\\nInput variables (based on physicochemical tests):\\r\\n   1 - fixed acidity\\r\\n   2 - volatile acidity\\r\\n   3 - citric acid\\r\\n   4 - residual sugar\\r\\n   5 - chlorides\\r\\n   6 - free sulfur dioxide\\r\\n   7 - total sulfur dioxide\\r\\n   8 - density\\r\\n   9 - pH\\r\\n   10 - sulphates\\r\\n   11 - alcohol\\r\\nOutput variable (based on sensory data): \\r\\n   12 - quality (score between 0 and 10)',\n",
       "   'citation': None}},\n",
       " 'variables':                     name     role         type demographic  \\\n",
       " 0          fixed_acidity  Feature   Continuous        None   \n",
       " 1       volatile_acidity  Feature   Continuous        None   \n",
       " 2            citric_acid  Feature   Continuous        None   \n",
       " 3         residual_sugar  Feature   Continuous        None   \n",
       " 4              chlorides  Feature   Continuous        None   \n",
       " 5    free_sulfur_dioxide  Feature   Continuous        None   \n",
       " 6   total_sulfur_dioxide  Feature   Continuous        None   \n",
       " 7                density  Feature   Continuous        None   \n",
       " 8                     pH  Feature   Continuous        None   \n",
       " 9              sulphates  Feature   Continuous        None   \n",
       " 10               alcohol  Feature   Continuous        None   \n",
       " 11               quality   Target      Integer        None   \n",
       " 12                 color    Other  Categorical        None   \n",
       " \n",
       "                description units missing_values  \n",
       " 0                     None  None             no  \n",
       " 1                     None  None             no  \n",
       " 2                     None  None             no  \n",
       " 3                     None  None             no  \n",
       " 4                     None  None             no  \n",
       " 5                     None  None             no  \n",
       " 6                     None  None             no  \n",
       " 7                     None  None             no  \n",
       " 8                     None  None             no  \n",
       " 9                     None  None             no  \n",
       " 10                    None  None             no  \n",
       " 11  score between 0 and 10  None             no  \n",
       " 12            red or white  None             no  }"
      ]
     },
     "execution_count": 31,
     "metadata": {},
     "output_type": "execute_result"
    }
   ],
   "source": [
    "from ucimlrepo import fetch_ucirepo \n",
    "  \n",
    "# fetch dataset \n",
    "wine_quality = fetch_ucirepo(id=186) \n",
    "wine_quality  "
   ]
  },
  {
   "cell_type": "markdown",
   "metadata": {},
   "source": [
    "3.\tPrétraitement des données :\n",
    "•\tCharger les données dans un DataFrame pandas\n"
   ]
  },
  {
   "cell_type": "code",
   "execution_count": 32,
   "metadata": {},
   "outputs": [],
   "source": [
    "# data (as pandas dataframes) \n",
    "X = wine_quality.data.features \n",
    "y = wine_quality.data.targets"
   ]
  },
  {
   "cell_type": "code",
   "execution_count": 35,
   "metadata": {},
   "outputs": [
    {
     "data": {
      "text/html": [
       "<div>\n",
       "<style scoped>\n",
       "    .dataframe tbody tr th:only-of-type {\n",
       "        vertical-align: middle;\n",
       "    }\n",
       "\n",
       "    .dataframe tbody tr th {\n",
       "        vertical-align: top;\n",
       "    }\n",
       "\n",
       "    .dataframe thead th {\n",
       "        text-align: right;\n",
       "    }\n",
       "</style>\n",
       "<table border=\"1\" class=\"dataframe\">\n",
       "  <thead>\n",
       "    <tr style=\"text-align: right;\">\n",
       "      <th></th>\n",
       "      <th>fixed_acidity</th>\n",
       "      <th>volatile_acidity</th>\n",
       "      <th>citric_acid</th>\n",
       "      <th>residual_sugar</th>\n",
       "      <th>chlorides</th>\n",
       "      <th>free_sulfur_dioxide</th>\n",
       "      <th>total_sulfur_dioxide</th>\n",
       "      <th>density</th>\n",
       "      <th>pH</th>\n",
       "      <th>sulphates</th>\n",
       "      <th>alcohol</th>\n",
       "    </tr>\n",
       "  </thead>\n",
       "  <tbody>\n",
       "    <tr>\n",
       "      <th>0</th>\n",
       "      <td>7.4</td>\n",
       "      <td>0.70</td>\n",
       "      <td>0.00</td>\n",
       "      <td>1.9</td>\n",
       "      <td>0.076</td>\n",
       "      <td>11.0</td>\n",
       "      <td>34.0</td>\n",
       "      <td>0.99780</td>\n",
       "      <td>3.51</td>\n",
       "      <td>0.56</td>\n",
       "      <td>9.4</td>\n",
       "    </tr>\n",
       "    <tr>\n",
       "      <th>1</th>\n",
       "      <td>7.8</td>\n",
       "      <td>0.88</td>\n",
       "      <td>0.00</td>\n",
       "      <td>2.6</td>\n",
       "      <td>0.098</td>\n",
       "      <td>25.0</td>\n",
       "      <td>67.0</td>\n",
       "      <td>0.99680</td>\n",
       "      <td>3.20</td>\n",
       "      <td>0.68</td>\n",
       "      <td>9.8</td>\n",
       "    </tr>\n",
       "    <tr>\n",
       "      <th>2</th>\n",
       "      <td>7.8</td>\n",
       "      <td>0.76</td>\n",
       "      <td>0.04</td>\n",
       "      <td>2.3</td>\n",
       "      <td>0.092</td>\n",
       "      <td>15.0</td>\n",
       "      <td>54.0</td>\n",
       "      <td>0.99700</td>\n",
       "      <td>3.26</td>\n",
       "      <td>0.65</td>\n",
       "      <td>9.8</td>\n",
       "    </tr>\n",
       "    <tr>\n",
       "      <th>3</th>\n",
       "      <td>11.2</td>\n",
       "      <td>0.28</td>\n",
       "      <td>0.56</td>\n",
       "      <td>1.9</td>\n",
       "      <td>0.075</td>\n",
       "      <td>17.0</td>\n",
       "      <td>60.0</td>\n",
       "      <td>0.99800</td>\n",
       "      <td>3.16</td>\n",
       "      <td>0.58</td>\n",
       "      <td>9.8</td>\n",
       "    </tr>\n",
       "    <tr>\n",
       "      <th>4</th>\n",
       "      <td>7.4</td>\n",
       "      <td>0.70</td>\n",
       "      <td>0.00</td>\n",
       "      <td>1.9</td>\n",
       "      <td>0.076</td>\n",
       "      <td>11.0</td>\n",
       "      <td>34.0</td>\n",
       "      <td>0.99780</td>\n",
       "      <td>3.51</td>\n",
       "      <td>0.56</td>\n",
       "      <td>9.4</td>\n",
       "    </tr>\n",
       "    <tr>\n",
       "      <th>...</th>\n",
       "      <td>...</td>\n",
       "      <td>...</td>\n",
       "      <td>...</td>\n",
       "      <td>...</td>\n",
       "      <td>...</td>\n",
       "      <td>...</td>\n",
       "      <td>...</td>\n",
       "      <td>...</td>\n",
       "      <td>...</td>\n",
       "      <td>...</td>\n",
       "      <td>...</td>\n",
       "    </tr>\n",
       "    <tr>\n",
       "      <th>6492</th>\n",
       "      <td>6.2</td>\n",
       "      <td>0.21</td>\n",
       "      <td>0.29</td>\n",
       "      <td>1.6</td>\n",
       "      <td>0.039</td>\n",
       "      <td>24.0</td>\n",
       "      <td>92.0</td>\n",
       "      <td>0.99114</td>\n",
       "      <td>3.27</td>\n",
       "      <td>0.50</td>\n",
       "      <td>11.2</td>\n",
       "    </tr>\n",
       "    <tr>\n",
       "      <th>6493</th>\n",
       "      <td>6.6</td>\n",
       "      <td>0.32</td>\n",
       "      <td>0.36</td>\n",
       "      <td>8.0</td>\n",
       "      <td>0.047</td>\n",
       "      <td>57.0</td>\n",
       "      <td>168.0</td>\n",
       "      <td>0.99490</td>\n",
       "      <td>3.15</td>\n",
       "      <td>0.46</td>\n",
       "      <td>9.6</td>\n",
       "    </tr>\n",
       "    <tr>\n",
       "      <th>6494</th>\n",
       "      <td>6.5</td>\n",
       "      <td>0.24</td>\n",
       "      <td>0.19</td>\n",
       "      <td>1.2</td>\n",
       "      <td>0.041</td>\n",
       "      <td>30.0</td>\n",
       "      <td>111.0</td>\n",
       "      <td>0.99254</td>\n",
       "      <td>2.99</td>\n",
       "      <td>0.46</td>\n",
       "      <td>9.4</td>\n",
       "    </tr>\n",
       "    <tr>\n",
       "      <th>6495</th>\n",
       "      <td>5.5</td>\n",
       "      <td>0.29</td>\n",
       "      <td>0.30</td>\n",
       "      <td>1.1</td>\n",
       "      <td>0.022</td>\n",
       "      <td>20.0</td>\n",
       "      <td>110.0</td>\n",
       "      <td>0.98869</td>\n",
       "      <td>3.34</td>\n",
       "      <td>0.38</td>\n",
       "      <td>12.8</td>\n",
       "    </tr>\n",
       "    <tr>\n",
       "      <th>6496</th>\n",
       "      <td>6.0</td>\n",
       "      <td>0.21</td>\n",
       "      <td>0.38</td>\n",
       "      <td>0.8</td>\n",
       "      <td>0.020</td>\n",
       "      <td>22.0</td>\n",
       "      <td>98.0</td>\n",
       "      <td>0.98941</td>\n",
       "      <td>3.26</td>\n",
       "      <td>0.32</td>\n",
       "      <td>11.8</td>\n",
       "    </tr>\n",
       "  </tbody>\n",
       "</table>\n",
       "<p>6497 rows × 11 columns</p>\n",
       "</div>"
      ],
      "text/plain": [
       "      fixed_acidity  volatile_acidity  citric_acid  residual_sugar  chlorides  \\\n",
       "0               7.4              0.70         0.00             1.9      0.076   \n",
       "1               7.8              0.88         0.00             2.6      0.098   \n",
       "2               7.8              0.76         0.04             2.3      0.092   \n",
       "3              11.2              0.28         0.56             1.9      0.075   \n",
       "4               7.4              0.70         0.00             1.9      0.076   \n",
       "...             ...               ...          ...             ...        ...   \n",
       "6492            6.2              0.21         0.29             1.6      0.039   \n",
       "6493            6.6              0.32         0.36             8.0      0.047   \n",
       "6494            6.5              0.24         0.19             1.2      0.041   \n",
       "6495            5.5              0.29         0.30             1.1      0.022   \n",
       "6496            6.0              0.21         0.38             0.8      0.020   \n",
       "\n",
       "      free_sulfur_dioxide  total_sulfur_dioxide  density    pH  sulphates  \\\n",
       "0                    11.0                  34.0  0.99780  3.51       0.56   \n",
       "1                    25.0                  67.0  0.99680  3.20       0.68   \n",
       "2                    15.0                  54.0  0.99700  3.26       0.65   \n",
       "3                    17.0                  60.0  0.99800  3.16       0.58   \n",
       "4                    11.0                  34.0  0.99780  3.51       0.56   \n",
       "...                   ...                   ...      ...   ...        ...   \n",
       "6492                 24.0                  92.0  0.99114  3.27       0.50   \n",
       "6493                 57.0                 168.0  0.99490  3.15       0.46   \n",
       "6494                 30.0                 111.0  0.99254  2.99       0.46   \n",
       "6495                 20.0                 110.0  0.98869  3.34       0.38   \n",
       "6496                 22.0                  98.0  0.98941  3.26       0.32   \n",
       "\n",
       "      alcohol  \n",
       "0         9.4  \n",
       "1         9.8  \n",
       "2         9.8  \n",
       "3         9.8  \n",
       "4         9.4  \n",
       "...       ...  \n",
       "6492     11.2  \n",
       "6493      9.6  \n",
       "6494      9.4  \n",
       "6495     12.8  \n",
       "6496     11.8  \n",
       "\n",
       "[6497 rows x 11 columns]"
      ]
     },
     "execution_count": 35,
     "metadata": {},
     "output_type": "execute_result"
    }
   ],
   "source": [
    "X"
   ]
  },
  {
   "cell_type": "markdown",
   "metadata": {},
   "source": [
    "•\tDiviser les données en features (variables explicatives) et target (variable cible) si nécessaire."
   ]
  },
  {
   "cell_type": "code",
   "execution_count": 36,
   "metadata": {},
   "outputs": [
    {
     "data": {
      "text/html": [
       "<div>\n",
       "<style scoped>\n",
       "    .dataframe tbody tr th:only-of-type {\n",
       "        vertical-align: middle;\n",
       "    }\n",
       "\n",
       "    .dataframe tbody tr th {\n",
       "        vertical-align: top;\n",
       "    }\n",
       "\n",
       "    .dataframe thead th {\n",
       "        text-align: right;\n",
       "    }\n",
       "</style>\n",
       "<table border=\"1\" class=\"dataframe\">\n",
       "  <thead>\n",
       "    <tr style=\"text-align: right;\">\n",
       "      <th></th>\n",
       "      <th>quality</th>\n",
       "    </tr>\n",
       "  </thead>\n",
       "  <tbody>\n",
       "    <tr>\n",
       "      <th>0</th>\n",
       "      <td>5</td>\n",
       "    </tr>\n",
       "    <tr>\n",
       "      <th>1</th>\n",
       "      <td>5</td>\n",
       "    </tr>\n",
       "    <tr>\n",
       "      <th>2</th>\n",
       "      <td>5</td>\n",
       "    </tr>\n",
       "    <tr>\n",
       "      <th>3</th>\n",
       "      <td>6</td>\n",
       "    </tr>\n",
       "    <tr>\n",
       "      <th>4</th>\n",
       "      <td>5</td>\n",
       "    </tr>\n",
       "    <tr>\n",
       "      <th>...</th>\n",
       "      <td>...</td>\n",
       "    </tr>\n",
       "    <tr>\n",
       "      <th>6492</th>\n",
       "      <td>6</td>\n",
       "    </tr>\n",
       "    <tr>\n",
       "      <th>6493</th>\n",
       "      <td>5</td>\n",
       "    </tr>\n",
       "    <tr>\n",
       "      <th>6494</th>\n",
       "      <td>6</td>\n",
       "    </tr>\n",
       "    <tr>\n",
       "      <th>6495</th>\n",
       "      <td>7</td>\n",
       "    </tr>\n",
       "    <tr>\n",
       "      <th>6496</th>\n",
       "      <td>6</td>\n",
       "    </tr>\n",
       "  </tbody>\n",
       "</table>\n",
       "<p>6497 rows × 1 columns</p>\n",
       "</div>"
      ],
      "text/plain": [
       "      quality\n",
       "0           5\n",
       "1           5\n",
       "2           5\n",
       "3           6\n",
       "4           5\n",
       "...       ...\n",
       "6492        6\n",
       "6493        5\n",
       "6494        6\n",
       "6495        7\n",
       "6496        6\n",
       "\n",
       "[6497 rows x 1 columns]"
      ]
     },
     "execution_count": 36,
     "metadata": {},
     "output_type": "execute_result"
    }
   ],
   "source": [
    "# data (as pandas dataframes) \n",
    "X = wine_quality.data.features \n",
    "y = wine_quality.data.targets\n",
    "y"
   ]
  },
  {
   "cell_type": "markdown",
   "metadata": {},
   "source": [
    "•\tStandardiser les features pour avoir une moyenne de 0 et un écart type de 1 si nécessaire"
   ]
  },
  {
   "cell_type": "code",
   "execution_count": 46,
   "metadata": {},
   "outputs": [
    {
     "data": {
      "text/plain": [
       "array([[ 0.14247327,  2.18883292, -2.19283252, ...,  1.81308951,\n",
       "         0.19309677, -0.91546416],\n",
       "       [ 0.45103572,  3.28223494, -2.19283252, ..., -0.11507303,\n",
       "         0.99957862, -0.58006813],\n",
       "       [ 0.45103572,  2.55330026, -1.91755268, ...,  0.25811972,\n",
       "         0.79795816, -0.58006813],\n",
       "       ...,\n",
       "       [-0.55179227, -0.6054167 , -0.88525328, ..., -1.42124765,\n",
       "        -0.47897144, -0.91546416],\n",
       "       [-1.32319841, -0.30169391, -0.12823371, ...,  0.75571005,\n",
       "        -1.016626  ,  1.9354021 ],\n",
       "       [-0.93749534, -0.78765037,  0.42232597, ...,  0.25811972,\n",
       "        -1.41986693,  1.09691202]])"
      ]
     },
     "execution_count": 46,
     "metadata": {},
     "output_type": "execute_result"
    }
   ],
   "source": [
    "from sklearn.preprocessing import StandardScaler\n",
    "scaler = StandardScaler()\n",
    "X_scaled = scaler.fit_transform(X)\n",
    "scaler\n",
    "X_scaled"
   ]
  },
  {
   "cell_type": "markdown",
   "metadata": {},
   "source": [
    "4.\tAppliquer l'ACP :\n",
    "•\tUtiliser la classe PCA de sklearn.decomposition pour effectuer l'ACP.\n",
    "•\tChoisir le nombre de composantes principales à conserver\n"
   ]
  },
  {
   "cell_type": "code",
   "execution_count": 47,
   "metadata": {},
   "outputs": [
    {
     "data": {
      "image/png": "[encoded data removed]",
      "text/plain": [
       "<Figure size 576x432 with 1 Axes>"
      ]
     },
     "metadata": {
      "needs_background": "light"
     },
     "output_type": "display_data"
    }
   ],
   "source": [
    "pca_full = PCA()\n",
    "X_pca = pca_full.fit_transform(X_scaled)\n",
    "\n",
    "# Calculer la variance expliquée par chaque composante\n",
    "explained_variance_ratio = pca_full.explained_variance_ratio_\n",
    "\n",
    "# Calculer la variance cumulée\n",
    "cumulative_variance_ratio = explained_variance_ratio.cumsum()\n",
    "\n",
    "# Afficher le graphique de la variance cumulée\n",
    "plt.figure(figsize=(8, 6))\n",
    "plt.plot(range(1, len(cumulative_variance_ratio) + 1), cumulative_variance_ratio, marker='o', linestyle='-')\n",
    "plt.title('Variance cumulée expliquée par le nombre de composantes principales')\n",
    "plt.xlabel('Nombre de composantes principales')\n",
    "plt.ylabel('Variance cumulée expliquée')\n",
    "plt.grid(True)\n",
    "plt.show()"
   ]
  },
  {
   "cell_type": "markdown",
   "metadata": {},
   "source": [
    "5.\tVisualisation des résultats :\n",
    "\n",
    "•\tVisualiser la variance expliquée par chaque composante principale\n"
   ]
  },
  {
   "cell_type": "code",
   "execution_count": 49,
   "metadata": {},
   "outputs": [
    {
     "name": "stdout",
     "output_type": "stream",
     "text": [
      "Variance expliquée par chaque composante principale : [0.2754426  0.22671146 0.14148609 0.08823201 0.06544317 0.05521016\n",
      " 0.04755989 0.04559184 0.03063855 0.02069961 0.00298462]\n"
     ]
    }
   ],
   "source": [
    "explained_variance_ratio = pca_full.explained_variance_ratio_\n",
    "print(\"Variance expliquée par chaque composante principale :\", explained_variance_ratio)"
   ]
  },
  {
   "cell_type": "markdown",
   "metadata": {},
   "source": [
    "•\tTracer un graphique en deux dimensions des observations projetées sur les deux premières composantes principales"
   ]
  },
  {
   "cell_type": "code",
   "execution_count": 50,
   "metadata": {},
   "outputs": [
    {
     "data": {
      "image/png": "[encoded data removed]",
      "text/plain": [
       "<Figure size 576x432 with 1 Axes>"
      ]
     },
     "metadata": {
      "needs_background": "light"
     },
     "output_type": "display_data"
    }
   ],
   "source": [
    "# Tracer un graphique en deux dimensions des observations projetées sur les deux premières composantes principales\n",
    "plt.figure(figsize=(8, 6))\n",
    "plt.scatter(X_pca[:, 0], X_pca[:, 1], alpha=0.8)\n",
    "plt.title('ACP - Projection des données sur les deux premières composantes principales')\n",
    "plt.xlabel('Première composante principale')\n",
    "plt.ylabel('Deuxième composante principale')\n",
    "plt.grid(True)\n",
    "plt.show()"
   ]
  },
  {
   "cell_type": "markdown",
   "metadata": {},
   "source": [
    "•\tSi les données ont une variable cible (par exemple, qualité du vin), colorer les points en fonction de la qualité du vin."
   ]
  },
  {
   "cell_type": "code",
   "execution_count": 55,
   "metadata": {},
   "outputs": [
    {
     "data": {
      "text/plain": [
       "<matplotlib.colorbar.Colorbar at 0x1992e2ab7c0>"
      ]
     },
     "execution_count": 55,
     "metadata": {},
     "output_type": "execute_result"
    },
    {
     "data": {
      "image/png": "[encoded data removed]",
      "text/plain": [
       "<Figure size 432x288 with 2 Axes>"
      ]
     },
     "metadata": {
      "needs_background": "light"
     },
     "output_type": "display_data"
    }
   ],
   "source": [
    "quality = X.iloc[:, -1].values\n",
    "plt.scatter(X_pca[:, 0], X_pca[:, 1], c=quality, cmap='viridis', alpha=0.8)\n",
    "plt.colorbar(label='Qualité du vin')"
   ]
  }
 ],
 "metadata": {
  "kernelspec": {
   "display_name": "Python 3 (ipykernel)",
   "language": "python",
   "name": "python3"
  },
  "language_info": {
   "codemirror_mode": {
    "name": "ipython",
    "version": 3
   },
   "file_extension": ".py",
   "mimetype": "text/x-python",
   "name": "python",
   "nbconvert_exporter": "python",
   "pygments_lexer": "ipython3",
   "version": "3.11.7"
  }
 },
 "nbformat": 4,
 "nbformat_minor": 4
}
